{
  "cells": [
    {
      "cell_type": "code",
      "execution_count": 2,
      "id": "bdd686e7",
      "metadata": {
        "id": "bdd686e7"
      },
      "outputs": [],
      "source": [
        "import os\n",
        "import pandas as pd\n",
        "import numpy as np\n",
        "import tensorflow as tf\n",
        "from tensorflow.keras.preprocessing import image"
      ]
    },
    {
      "cell_type": "code",
      "source": [
        "from google.colab import drive\n",
        "\n",
        "\n",
        "drive.mount('/content/drive')"
      ],
      "metadata": {
        "colab": {
          "base_uri": "https://localhost:8080/"
        },
        "id": "ffOORISrQg9P",
        "outputId": "809c5006-7d58-44da-eeea-7b9a2e2dc01e"
      },
      "id": "ffOORISrQg9P",
      "execution_count": 3,
      "outputs": [
        {
          "output_type": "stream",
          "name": "stdout",
          "text": [
            "Mounted at /content/drive\n"
          ]
        }
      ]
    },
    {
      "cell_type": "markdown",
      "id": "47887b41",
      "metadata": {
        "id": "47887b41"
      },
      "source": [
        "### Load all training images and labels"
      ]
    },
    {
      "cell_type": "code",
      "execution_count": null,
      "id": "b28e10d5",
      "metadata": {
        "scrolled": true,
        "id": "b28e10d5"
      },
      "outputs": [],
      "source": [
        "# load all training images and labels\n",
        "train_img_folder = '/content/drive/MyDrive/Colab_Notebooks/F22_DL_HW4_train_test/ever/trainImgs'\n",
        "train = pd.read_csv('/content/drive/MyDrive/Colab_Notebooks/F22_DL_HW4_train_test/train.csv')\n",
        "# print(train)\n",
        "\n",
        "trainImg_names = list(train['img name']) \n",
        "input_size = 256\n",
        "print('loading images ...')\n",
        "X_train = []\n",
        "for idx, name in enumerate(trainImg_names):\n",
        "    img = image.load_img(os.path.join(train_img_folder, name +'.png'), color_mode = \"grayscale\", target_size = (input_size, input_size))\n",
        "    img = image.img_to_array(img)\n",
        "    X_train.append(img)\n",
        "    print(idx, name)\n",
        "X_train = np.array(X_train).astype(np.float32)/255\n",
        "y_train = np.array(train['tumor types'])\n",
        "\n",
        "# convert class vectors to binary class matrices\n",
        "y_train_onehot = tf.keras.utils.to_categorical(y_train)\n",
        "print(y_train_onehot.shape)\n",
        "\n",
        "print('loading finished ...')\n",
        "print(X_train.shape, y_train_onehot)"
      ]
    },
    {
      "cell_type": "code",
      "source": [
        "# save data\n",
        "\n",
        "saved_img_folder = '/content/drive/MyDrive/Colab_Notebooks/F22_DL_HW4_train_test/new_data/'\n",
        "output_train_data_name = \"saved_X_train.npy\"\n",
        "output_train_data_path = saved_img_folder + output_train_data_name\n",
        "print(X_train.shape)\n",
        "np.save(output_train_data_path, X_train)\n",
        "\n",
        "output_label_data_name = \"saved_y_train_onehot.npy\"\n",
        "output_label_data_path = saved_img_folder + output_label_data_name\n",
        "print(y_train_onehot.shape)\n",
        "np.save(output_label_data_path, y_train_onehot)"
      ],
      "metadata": {
        "id": "hKhx0ZESQ8kq"
      },
      "id": "hKhx0ZESQ8kq",
      "execution_count": null,
      "outputs": []
    },
    {
      "cell_type": "code",
      "source": [
        "#load data\n",
        "\n",
        "saved_img_folder = '/content/drive/MyDrive/Colab_Notebooks/F22_DL_HW4_train_test/new_data/'\n",
        "output_train_data_name = \"saved_X_train.npy\"\n",
        "output_train_data_path = saved_img_folder + output_train_data_name\n",
        "X_train = np.load(output_train_data_path)\n",
        "\n",
        "output_label_data_name = \"saved_y_train_onehot.npy\"\n",
        "output_label_data_path = saved_img_folder + output_label_data_name\n",
        "y_train_onehot = np.load(output_label_data_path)"
      ],
      "metadata": {
        "id": "VA2F1enSREQV"
      },
      "id": "VA2F1enSREQV",
      "execution_count": 4,
      "outputs": []
    },
    {
      "cell_type": "markdown",
      "id": "06836656",
      "metadata": {
        "id": "06836656"
      },
      "source": [
        "#### Your model here"
      ]
    },
    {
      "cell_type": "code",
      "execution_count": 5,
      "id": "ae120bfc",
      "metadata": {
        "id": "ae120bfc"
      },
      "outputs": [],
      "source": [
        "num_classes = 2\n",
        "\n",
        "#model = ...\n",
        "#model.compile(...)\n",
        "#history = model.fit(X_train, y_train_onehot, ...)"
      ]
    },
    {
      "cell_type": "code",
      "source": [
        "from keras.models import Model\n",
        "from keras.layers import Input\n",
        "from keras.layers.convolutional import Conv2D\n",
        "from keras.layers.pooling import MaxPooling2D\n",
        "from keras.layers import Dense\n",
        "from keras.layers import Flatten\n",
        "from keras.layers import BatchNormalization\n",
        "from keras.layers import Dropout\n",
        "from keras.callbacks import EarlyStopping, ReduceLROnPlateau\n",
        "import datetime\n",
        "from keras.preprocessing.image import ImageDataGenerator\n",
        "from sklearn.model_selection import train_test_split\n",
        "from tensorflow.keras.optimizers import Adam"
      ],
      "metadata": {
        "id": "1BwU2_6vRLAv"
      },
      "id": "1BwU2_6vRLAv",
      "execution_count": 6,
      "outputs": []
    },
    {
      "cell_type": "code",
      "source": [
        "inputs = Input(shape=(256, 256, 1))\n",
        "conv1 = Conv2D(filters=32, kernel_size=3, padding='same')(inputs)\n",
        "pool1 = MaxPooling2D()(conv1)\n",
        "conv2 = Conv2D(filters=64, kernel_size=3, padding='same')(pool1)\n",
        "pool2 = MaxPooling2D()(conv2)\n",
        "conv3a = Conv2D(filters=128, kernel_size=3, padding='same')(pool2)\n",
        "conv3b = Conv2D(filters=256, kernel_size=3, padding='same')(conv3a)\n",
        "flat = Flatten()(conv3b)\n",
        "dropout1 = Dropout(0.1)(flat)\n",
        "dense1 = Dense(128, activation='relu')(dropout1)\n",
        "dropout2 = Dropout(0.1)(dense1)\n",
        "dense2 = Dense(128, activation='relu')(dropout2)\n",
        "outputs = Dense(num_classes, activation='sigmoid')(dense2)\n",
        "\n",
        "cnn1 = Model(inputs, outputs)"
      ],
      "metadata": {
        "id": "FVFqfFzERPqj"
      },
      "id": "FVFqfFzERPqj",
      "execution_count": 14,
      "outputs": []
    },
    {
      "cell_type": "code",
      "source": [
        "train_data, validation_data, y_train, validation_label = \\\n",
        "            train_test_split(X_train, y_train_onehot, test_size=0.2,\\\n",
        "                stratify=y_train_onehot,\n",
        "                random_state=20)"
      ],
      "metadata": {
        "id": "o-1J9pFuRVLv"
      },
      "id": "o-1J9pFuRVLv",
      "execution_count": 8,
      "outputs": []
    },
    {
      "cell_type": "code",
      "source": [
        "datagen = ImageDataGenerator(\n",
        "    width_shift_range=0.1,\n",
        "    height_shift_range=0.1,\n",
        "    horizontal_flip=True,\n",
        "    vertical_flip=False,\n",
        "    zoom_range=0.1,\n",
        "    shear_range=0.1,\n",
        "    rotation_range=15,\n",
        "    )"
      ],
      "metadata": {
        "id": "g5ZpOaXTRiOt"
      },
      "id": "g5ZpOaXTRiOt",
      "execution_count": 13,
      "outputs": []
    },
    {
      "cell_type": "code",
      "source": [
        "now = datetime.datetime.now\n",
        "t = now()\n",
        "\n",
        "\n",
        "cnn1.compile(optimizer=Adam(learning_rate=0.001),\n",
        "             # optimizer='adam',\n",
        "                  loss='binary_crossentropy',\n",
        "                  # loss = \"categorical_crossentropy\",\n",
        "                  metrics=['accuracy'])\n",
        "\n",
        "callbacks = [EarlyStopping(monitor='val_loss', patience=20),\n",
        "             ReduceLROnPlateau(monitor='val_loss', factor=0.5, patience=5, min_lr=1e-6, verbose=1)]\n",
        "\n",
        "history = cnn1.fit(datagen.flow(train_data, y_train, batch_size=64),\n",
        "              steps_per_epoch=len(train_data)/64, epochs=100,\n",
        "              validation_data=(validation_data, validation_label), \n",
        "              verbose=1,\n",
        "              #callbacks=[EarlyStopping(monitor='val_loss', patience = 5)]\n",
        "              callbacks=callbacks\n",
        "              )\n",
        "\n",
        "print('Training time: %s' % (now() - t))"
      ],
      "metadata": {
        "colab": {
          "base_uri": "https://localhost:8080/"
        },
        "id": "FDrde5FgRrMf",
        "outputId": "bd37e527-5085-4e48-f019-01c7ce2366e5"
      },
      "id": "FDrde5FgRrMf",
      "execution_count": 15,
      "outputs": [
        {
          "output_type": "stream",
          "name": "stdout",
          "text": [
            "Epoch 1/100\n",
            "29/29 [==============================] - 9s 279ms/step - loss: 4.0584 - accuracy: 0.5270 - val_loss: 1.1439 - val_accuracy: 0.5556 - lr: 0.0010\n",
            "Epoch 2/100\n",
            "29/29 [==============================] - 8s 267ms/step - loss: 2.2972 - accuracy: 0.5370 - val_loss: 0.7400 - val_accuracy: 0.5388 - lr: 0.0010\n",
            "Epoch 3/100\n",
            "29/29 [==============================] - 8s 266ms/step - loss: 0.7423 - accuracy: 0.5296 - val_loss: 0.6735 - val_accuracy: 0.5765 - lr: 0.0010\n",
            "Epoch 4/100\n",
            "29/29 [==============================] - 8s 266ms/step - loss: 0.6766 - accuracy: 0.5899 - val_loss: 0.6646 - val_accuracy: 0.5807 - lr: 0.0010\n",
            "Epoch 5/100\n",
            "29/29 [==============================] - 8s 266ms/step - loss: 0.6661 - accuracy: 0.6162 - val_loss: 0.6539 - val_accuracy: 0.6080 - lr: 0.0010\n",
            "Epoch 6/100\n",
            "29/29 [==============================] - 8s 266ms/step - loss: 0.6669 - accuracy: 0.6193 - val_loss: 0.6403 - val_accuracy: 0.6101 - lr: 0.0010\n",
            "Epoch 7/100\n",
            "29/29 [==============================] - 8s 266ms/step - loss: 0.6307 - accuracy: 0.6487 - val_loss: 0.6723 - val_accuracy: 0.6017 - lr: 0.0010\n",
            "Epoch 8/100\n",
            "29/29 [==============================] - 8s 266ms/step - loss: 0.6504 - accuracy: 0.6356 - val_loss: 0.6479 - val_accuracy: 0.6080 - lr: 0.0010\n",
            "Epoch 9/100\n",
            "29/29 [==============================] - 8s 265ms/step - loss: 0.6341 - accuracy: 0.6476 - val_loss: 0.6274 - val_accuracy: 0.6583 - lr: 0.0010\n",
            "Epoch 10/100\n",
            "29/29 [==============================] - 8s 265ms/step - loss: 0.6386 - accuracy: 0.6408 - val_loss: 0.6153 - val_accuracy: 0.6604 - lr: 0.0010\n",
            "Epoch 11/100\n",
            "29/29 [==============================] - 8s 267ms/step - loss: 0.6239 - accuracy: 0.6534 - val_loss: 0.6038 - val_accuracy: 0.6625 - lr: 0.0010\n",
            "Epoch 12/100\n",
            "29/29 [==============================] - 8s 267ms/step - loss: 0.6119 - accuracy: 0.6681 - val_loss: 0.6267 - val_accuracy: 0.6352 - lr: 0.0010\n",
            "Epoch 13/100\n",
            "29/29 [==============================] - 8s 266ms/step - loss: 0.6162 - accuracy: 0.6654 - val_loss: 0.6265 - val_accuracy: 0.6625 - lr: 0.0010\n",
            "Epoch 14/100\n",
            "29/29 [==============================] - 8s 266ms/step - loss: 0.6145 - accuracy: 0.6723 - val_loss: 0.6012 - val_accuracy: 0.6688 - lr: 0.0010\n",
            "Epoch 15/100\n",
            "29/29 [==============================] - 8s 269ms/step - loss: 0.6166 - accuracy: 0.6702 - val_loss: 0.5951 - val_accuracy: 0.6751 - lr: 0.0010\n",
            "Epoch 16/100\n",
            "29/29 [==============================] - 8s 265ms/step - loss: 0.6122 - accuracy: 0.6807 - val_loss: 0.6216 - val_accuracy: 0.6562 - lr: 0.0010\n",
            "Epoch 17/100\n",
            "29/29 [==============================] - 8s 264ms/step - loss: 0.6227 - accuracy: 0.6660 - val_loss: 0.6599 - val_accuracy: 0.6352 - lr: 0.0010\n",
            "Epoch 18/100\n",
            "29/29 [==============================] - 8s 267ms/step - loss: 0.6226 - accuracy: 0.6628 - val_loss: 0.6268 - val_accuracy: 0.6562 - lr: 0.0010\n",
            "Epoch 19/100\n",
            "29/29 [==============================] - 8s 266ms/step - loss: 0.6206 - accuracy: 0.6571 - val_loss: 0.6260 - val_accuracy: 0.6520 - lr: 0.0010\n",
            "Epoch 20/100\n",
            "29/29 [==============================] - 8s 266ms/step - loss: 0.6233 - accuracy: 0.6612 - val_loss: 0.5938 - val_accuracy: 0.6834 - lr: 0.0010\n",
            "Epoch 21/100\n",
            "29/29 [==============================] - 8s 266ms/step - loss: 0.6088 - accuracy: 0.6943 - val_loss: 0.6198 - val_accuracy: 0.6667 - lr: 0.0010\n",
            "Epoch 22/100\n",
            "29/29 [==============================] - 8s 265ms/step - loss: 0.5955 - accuracy: 0.6843 - val_loss: 0.5812 - val_accuracy: 0.6981 - lr: 0.0010\n",
            "Epoch 23/100\n",
            "29/29 [==============================] - 8s 265ms/step - loss: 0.5963 - accuracy: 0.6791 - val_loss: 0.6616 - val_accuracy: 0.6520 - lr: 0.0010\n",
            "Epoch 24/100\n",
            "29/29 [==============================] - 8s 266ms/step - loss: 0.6096 - accuracy: 0.6686 - val_loss: 0.6184 - val_accuracy: 0.6751 - lr: 0.0010\n",
            "Epoch 25/100\n",
            "29/29 [==============================] - 8s 266ms/step - loss: 0.6104 - accuracy: 0.6775 - val_loss: 0.6178 - val_accuracy: 0.6604 - lr: 0.0010\n",
            "Epoch 26/100\n",
            "29/29 [==============================] - 8s 264ms/step - loss: 0.6091 - accuracy: 0.6864 - val_loss: 0.5824 - val_accuracy: 0.6918 - lr: 0.0010\n",
            "Epoch 27/100\n",
            "30/29 [==============================] - ETA: 0s - loss: 0.5893 - accuracy: 0.6880\n",
            "Epoch 27: ReduceLROnPlateau reducing learning rate to 0.0005000000237487257.\n",
            "29/29 [==============================] - 8s 266ms/step - loss: 0.5893 - accuracy: 0.6880 - val_loss: 0.6145 - val_accuracy: 0.6730 - lr: 0.0010\n",
            "Epoch 28/100\n",
            "29/29 [==============================] - 8s 266ms/step - loss: 0.5964 - accuracy: 0.6801 - val_loss: 0.5948 - val_accuracy: 0.6897 - lr: 5.0000e-04\n",
            "Epoch 29/100\n",
            "29/29 [==============================] - 8s 266ms/step - loss: 0.5878 - accuracy: 0.6995 - val_loss: 0.5842 - val_accuracy: 0.6960 - lr: 5.0000e-04\n",
            "Epoch 30/100\n",
            "29/29 [==============================] - 8s 266ms/step - loss: 0.5857 - accuracy: 0.6953 - val_loss: 0.5953 - val_accuracy: 0.6960 - lr: 5.0000e-04\n",
            "Epoch 31/100\n",
            "29/29 [==============================] - 8s 265ms/step - loss: 0.5796 - accuracy: 0.6938 - val_loss: 0.5713 - val_accuracy: 0.6981 - lr: 5.0000e-04\n",
            "Epoch 32/100\n",
            "29/29 [==============================] - 8s 266ms/step - loss: 0.5681 - accuracy: 0.7105 - val_loss: 0.6185 - val_accuracy: 0.6771 - lr: 5.0000e-04\n",
            "Epoch 33/100\n",
            "29/29 [==============================] - 8s 267ms/step - loss: 0.5757 - accuracy: 0.6985 - val_loss: 0.5709 - val_accuracy: 0.7065 - lr: 5.0000e-04\n",
            "Epoch 34/100\n",
            "29/29 [==============================] - 8s 265ms/step - loss: 0.5674 - accuracy: 0.7021 - val_loss: 0.6104 - val_accuracy: 0.6813 - lr: 5.0000e-04\n",
            "Epoch 35/100\n",
            "29/29 [==============================] - 8s 266ms/step - loss: 0.5759 - accuracy: 0.7001 - val_loss: 0.5577 - val_accuracy: 0.7254 - lr: 5.0000e-04\n",
            "Epoch 36/100\n",
            "29/29 [==============================] - 8s 267ms/step - loss: 0.5664 - accuracy: 0.7079 - val_loss: 0.5544 - val_accuracy: 0.7065 - lr: 5.0000e-04\n",
            "Epoch 37/100\n",
            "29/29 [==============================] - 8s 265ms/step - loss: 0.5585 - accuracy: 0.7168 - val_loss: 0.6483 - val_accuracy: 0.6730 - lr: 5.0000e-04\n",
            "Epoch 38/100\n",
            "29/29 [==============================] - 8s 266ms/step - loss: 0.5715 - accuracy: 0.7147 - val_loss: 0.5587 - val_accuracy: 0.7023 - lr: 5.0000e-04\n",
            "Epoch 39/100\n",
            "29/29 [==============================] - 8s 267ms/step - loss: 0.5760 - accuracy: 0.6974 - val_loss: 0.5633 - val_accuracy: 0.7086 - lr: 5.0000e-04\n",
            "Epoch 40/100\n",
            "29/29 [==============================] - 8s 265ms/step - loss: 0.5733 - accuracy: 0.6974 - val_loss: 0.5577 - val_accuracy: 0.7254 - lr: 5.0000e-04\n",
            "Epoch 41/100\n",
            "30/29 [==============================] - ETA: 0s - loss: 0.5567 - accuracy: 0.7090\n",
            "Epoch 41: ReduceLROnPlateau reducing learning rate to 0.0002500000118743628.\n",
            "29/29 [==============================] - 8s 267ms/step - loss: 0.5567 - accuracy: 0.7090 - val_loss: 0.5570 - val_accuracy: 0.7044 - lr: 5.0000e-04\n",
            "Epoch 42/100\n",
            "29/29 [==============================] - 8s 266ms/step - loss: 0.5580 - accuracy: 0.7195 - val_loss: 0.5624 - val_accuracy: 0.6918 - lr: 2.5000e-04\n",
            "Epoch 43/100\n",
            "29/29 [==============================] - 8s 265ms/step - loss: 0.5436 - accuracy: 0.7226 - val_loss: 0.5749 - val_accuracy: 0.7023 - lr: 2.5000e-04\n",
            "Epoch 44/100\n",
            "29/29 [==============================] - 8s 266ms/step - loss: 0.5497 - accuracy: 0.7195 - val_loss: 0.5717 - val_accuracy: 0.7002 - lr: 2.5000e-04\n",
            "Epoch 45/100\n",
            "29/29 [==============================] - 8s 265ms/step - loss: 0.5491 - accuracy: 0.7189 - val_loss: 0.5968 - val_accuracy: 0.6897 - lr: 2.5000e-04\n",
            "Epoch 46/100\n",
            "30/29 [==============================] - ETA: 0s - loss: 0.5613 - accuracy: 0.7210\n",
            "Epoch 46: ReduceLROnPlateau reducing learning rate to 0.0001250000059371814.\n",
            "29/29 [==============================] - 8s 267ms/step - loss: 0.5613 - accuracy: 0.7210 - val_loss: 0.5689 - val_accuracy: 0.7044 - lr: 2.5000e-04\n",
            "Epoch 47/100\n",
            "29/29 [==============================] - 8s 270ms/step - loss: 0.5421 - accuracy: 0.7299 - val_loss: 0.5775 - val_accuracy: 0.7107 - lr: 1.2500e-04\n",
            "Epoch 48/100\n",
            "29/29 [==============================] - 8s 265ms/step - loss: 0.5386 - accuracy: 0.7347 - val_loss: 0.5789 - val_accuracy: 0.7107 - lr: 1.2500e-04\n",
            "Epoch 49/100\n",
            "29/29 [==============================] - 8s 268ms/step - loss: 0.5320 - accuracy: 0.7326 - val_loss: 0.5770 - val_accuracy: 0.7149 - lr: 1.2500e-04\n",
            "Epoch 50/100\n",
            "29/29 [==============================] - 8s 265ms/step - loss: 0.5362 - accuracy: 0.7158 - val_loss: 0.6150 - val_accuracy: 0.6688 - lr: 1.2500e-04\n",
            "Epoch 51/100\n",
            "29/29 [==============================] - 8s 265ms/step - loss: 0.5420 - accuracy: 0.7174 - val_loss: 0.5404 - val_accuracy: 0.7212 - lr: 1.2500e-04\n",
            "Epoch 52/100\n",
            "29/29 [==============================] - 8s 266ms/step - loss: 0.5469 - accuracy: 0.7242 - val_loss: 0.5569 - val_accuracy: 0.7170 - lr: 1.2500e-04\n",
            "Epoch 53/100\n",
            "29/29 [==============================] - 8s 266ms/step - loss: 0.5345 - accuracy: 0.7331 - val_loss: 0.5714 - val_accuracy: 0.7149 - lr: 1.2500e-04\n",
            "Epoch 54/100\n",
            "29/29 [==============================] - 8s 264ms/step - loss: 0.5407 - accuracy: 0.7294 - val_loss: 0.5386 - val_accuracy: 0.7233 - lr: 1.2500e-04\n",
            "Epoch 55/100\n",
            "29/29 [==============================] - 8s 264ms/step - loss: 0.5286 - accuracy: 0.7252 - val_loss: 0.5513 - val_accuracy: 0.7191 - lr: 1.2500e-04\n",
            "Epoch 56/100\n",
            "29/29 [==============================] - 8s 264ms/step - loss: 0.5375 - accuracy: 0.7294 - val_loss: 0.5746 - val_accuracy: 0.6981 - lr: 1.2500e-04\n",
            "Epoch 57/100\n",
            "29/29 [==============================] - 8s 265ms/step - loss: 0.5258 - accuracy: 0.7341 - val_loss: 0.5679 - val_accuracy: 0.6960 - lr: 1.2500e-04\n",
            "Epoch 58/100\n",
            "29/29 [==============================] - 8s 265ms/step - loss: 0.5423 - accuracy: 0.7200 - val_loss: 0.6019 - val_accuracy: 0.6771 - lr: 1.2500e-04\n",
            "Epoch 59/100\n",
            "30/29 [==============================] - ETA: 0s - loss: 0.5469 - accuracy: 0.7226\n",
            "Epoch 59: ReduceLROnPlateau reducing learning rate to 6.25000029685907e-05.\n",
            "29/29 [==============================] - 8s 265ms/step - loss: 0.5469 - accuracy: 0.7226 - val_loss: 0.5715 - val_accuracy: 0.7023 - lr: 1.2500e-04\n",
            "Epoch 60/100\n",
            "29/29 [==============================] - 8s 266ms/step - loss: 0.5299 - accuracy: 0.7242 - val_loss: 0.5687 - val_accuracy: 0.7107 - lr: 6.2500e-05\n",
            "Epoch 61/100\n",
            "29/29 [==============================] - 8s 266ms/step - loss: 0.5327 - accuracy: 0.7263 - val_loss: 0.5681 - val_accuracy: 0.7086 - lr: 6.2500e-05\n",
            "Epoch 62/100\n",
            "29/29 [==============================] - 8s 266ms/step - loss: 0.5329 - accuracy: 0.7326 - val_loss: 0.5849 - val_accuracy: 0.6960 - lr: 6.2500e-05\n",
            "Epoch 63/100\n",
            "29/29 [==============================] - 8s 265ms/step - loss: 0.5131 - accuracy: 0.7341 - val_loss: 0.5603 - val_accuracy: 0.7128 - lr: 6.2500e-05\n",
            "Epoch 64/100\n",
            "30/29 [==============================] - ETA: 0s - loss: 0.5283 - accuracy: 0.7352\n",
            "Epoch 64: ReduceLROnPlateau reducing learning rate to 3.125000148429535e-05.\n",
            "29/29 [==============================] - 8s 266ms/step - loss: 0.5283 - accuracy: 0.7352 - val_loss: 0.5694 - val_accuracy: 0.7128 - lr: 6.2500e-05\n",
            "Epoch 65/100\n",
            "29/29 [==============================] - 8s 265ms/step - loss: 0.5296 - accuracy: 0.7278 - val_loss: 0.5611 - val_accuracy: 0.7170 - lr: 3.1250e-05\n",
            "Epoch 66/100\n",
            "29/29 [==============================] - 8s 265ms/step - loss: 0.5178 - accuracy: 0.7478 - val_loss: 0.5654 - val_accuracy: 0.7191 - lr: 3.1250e-05\n",
            "Epoch 67/100\n",
            "29/29 [==============================] - 8s 266ms/step - loss: 0.5245 - accuracy: 0.7420 - val_loss: 0.5724 - val_accuracy: 0.7170 - lr: 3.1250e-05\n",
            "Epoch 68/100\n",
            "29/29 [==============================] - 8s 264ms/step - loss: 0.5127 - accuracy: 0.7504 - val_loss: 0.5730 - val_accuracy: 0.7191 - lr: 3.1250e-05\n",
            "Epoch 69/100\n",
            "30/29 [==============================] - ETA: 0s - loss: 0.5213 - accuracy: 0.7326\n",
            "Epoch 69: ReduceLROnPlateau reducing learning rate to 1.5625000742147677e-05.\n",
            "29/29 [==============================] - 8s 267ms/step - loss: 0.5213 - accuracy: 0.7326 - val_loss: 0.5702 - val_accuracy: 0.7149 - lr: 3.1250e-05\n",
            "Epoch 70/100\n",
            "29/29 [==============================] - 8s 265ms/step - loss: 0.5292 - accuracy: 0.7415 - val_loss: 0.5654 - val_accuracy: 0.7149 - lr: 1.5625e-05\n",
            "Epoch 71/100\n",
            "29/29 [==============================] - 8s 267ms/step - loss: 0.5278 - accuracy: 0.7368 - val_loss: 0.5714 - val_accuracy: 0.7107 - lr: 1.5625e-05\n",
            "Epoch 72/100\n",
            "29/29 [==============================] - 8s 266ms/step - loss: 0.5210 - accuracy: 0.7373 - val_loss: 0.5642 - val_accuracy: 0.7233 - lr: 1.5625e-05\n",
            "Epoch 73/100\n",
            "29/29 [==============================] - 8s 265ms/step - loss: 0.5339 - accuracy: 0.7294 - val_loss: 0.5601 - val_accuracy: 0.7191 - lr: 1.5625e-05\n",
            "Epoch 74/100\n",
            "30/29 [==============================] - ETA: 0s - loss: 0.5131 - accuracy: 0.7499\n",
            "Epoch 74: ReduceLROnPlateau reducing learning rate to 7.812500371073838e-06.\n",
            "29/29 [==============================] - 8s 266ms/step - loss: 0.5131 - accuracy: 0.7499 - val_loss: 0.5683 - val_accuracy: 0.7107 - lr: 1.5625e-05\n",
            "Training time: 0:09:51.261693\n"
          ]
        }
      ]
    },
    {
      "cell_type": "code",
      "source": [
        "import matplotlib.pyplot as plt\n",
        "\n",
        "\n",
        "def plot_hist():\n",
        "  train_loss = history.history['loss']\n",
        "  val_loss = history.history['val_loss']\n",
        "  acc = history.history['accuracy'] \n",
        "  val_acc = history.history['val_accuracy']\n",
        "\n",
        "  epochsn = np.arange(1, len(train_loss)+1,1)\n",
        "  plt.figure(figsize=(12, 4))\n",
        "\n",
        "  plt.subplot(1,2,1)\n",
        "  plt.plot(epochsn, acc, 'b', label='Training Accuracy')\n",
        "  plt.plot(epochsn, val_acc, 'r', label='Validation Accuracy')\n",
        "  plt.grid(color='gray', linestyle='--')\n",
        "  plt.legend()            \n",
        "  plt.title('ACCURACY')\n",
        "  plt.xlabel('Epochs')\n",
        "  plt.ylabel('Accuracy')\n",
        "\n",
        "  plt.subplot(1,2,2)\n",
        "  plt.plot(epochsn,train_loss, 'b', label='Training Loss')\n",
        "  plt.plot(epochsn,val_loss, 'r', label='Validation Loss')\n",
        "  plt.grid(color='gray', linestyle='--')\n",
        "  plt.legend()\n",
        "  plt.title('LOSS')\n",
        "  plt.xlabel('Epochs')\n",
        "  plt.ylabel('Loss')\n",
        "  plt.show() "
      ],
      "metadata": {
        "id": "BTy3VkxlRuZD"
      },
      "id": "BTy3VkxlRuZD",
      "execution_count": 16,
      "outputs": []
    },
    {
      "cell_type": "code",
      "source": [
        "plot_hist()"
      ],
      "metadata": {
        "colab": {
          "base_uri": "https://localhost:8080/",
          "height": 295
        },
        "id": "-W9jMOmbRwT0",
        "outputId": "cdab76b0-9aac-4e87-a6e5-80086445c000"
      },
      "id": "-W9jMOmbRwT0",
      "execution_count": 17,
      "outputs": [
        {
          "output_type": "display_data",
          "data": {
            "text/plain": [
              "<Figure size 864x288 with 2 Axes>"
            ],
            "image/png": "[encoded data removed]"
          },
          "metadata": {
            "needs_background": "light"
          }
        }
      ]
    },
    {
      "cell_type": "markdown",
      "id": "b8506f29",
      "metadata": {
        "id": "b8506f29"
      },
      "source": [
        "#### Load test imgs"
      ]
    },
    {
      "cell_type": "code",
      "execution_count": null,
      "id": "b8ae1f98",
      "metadata": {
        "scrolled": true,
        "id": "b8ae1f98"
      },
      "outputs": [],
      "source": [
        "import glob\n",
        "\n",
        "test_img_folder = '/content/drive/MyDrive/Colab_Notebooks/F22_DL_HW4_train_test/ever/testImgs/'\n",
        "testImg_names = glob.glob(test_img_folder + \"*.png\")\n",
        "\n",
        "input_size = 256\n",
        "print('loading test images ...')\n",
        "X_test = []\n",
        "for idx, name in enumerate(testImg_names):\n",
        "    img = image.load_img(name, color_mode = \"grayscale\", target_size = (input_size, input_size))\n",
        "    img = image.img_to_array(img)\n",
        "    X_test.append(img)\n",
        "    print(idx, name)\n",
        "X_test = np.array(X_test).astype(np.float32)\n",
        "print('loading finished')"
      ]
    },
    {
      "cell_type": "code",
      "source": [
        "# save test data\n",
        "\n",
        "saved_img_folder = '/content/drive/MyDrive/Colab_Notebooks/F22_DL_HW4_train_test/new_data/'\n",
        "output_test_data_name = \"saved_X_test.npy\"\n",
        "output_test_data_path = saved_img_folder + output_test_data_name\n",
        "print(X_test.shape)\n",
        "np.save(output_test_data_path, X_test)"
      ],
      "metadata": {
        "id": "R46rX0SzRzka"
      },
      "id": "R46rX0SzRzka",
      "execution_count": null,
      "outputs": []
    },
    {
      "cell_type": "code",
      "source": [
        "#load test data\n",
        "saved_img_folder = '/content/drive/MyDrive/Colab_Notebooks/F22_DL_HW4_train_test/new_data/'\n",
        "output_test_data_name = \"saved_X_test.npy\"\n",
        "output_test_data_path = saved_img_folder + output_test_data_name\n",
        "X_test = np.load(output_test_data_path)"
      ],
      "metadata": {
        "id": "6_kucQTbR5md"
      },
      "id": "6_kucQTbR5md",
      "execution_count": 18,
      "outputs": []
    },
    {
      "cell_type": "markdown",
      "id": "5b50ad6b",
      "metadata": {
        "id": "5b50ad6b"
      },
      "source": [
        "#### Pedict the labels for test images"
      ]
    },
    {
      "cell_type": "code",
      "execution_count": 19,
      "id": "8ce7acbb",
      "metadata": {
        "colab": {
          "base_uri": "https://localhost:8080/"
        },
        "id": "8ce7acbb",
        "outputId": "2024502d-a52a-4c31-d39a-903a34ea227e"
      },
      "outputs": [
        {
          "output_type": "stream",
          "name": "stdout",
          "text": [
            "39/39 [==============================] - 0s 8ms/step\n"
          ]
        },
        {
          "output_type": "execute_result",
          "data": {
            "text/plain": [
              "array([0, 0, 0, ..., 0, 0, 0])"
            ]
          },
          "metadata": {},
          "execution_count": 19
        }
      ],
      "source": [
        "test_pred = cnn1.predict(X_test)\n",
        "test_pred_class = np.argmax(test_pred, axis = 1)\n",
        "test_pred_class"
      ]
    },
    {
      "cell_type": "markdown",
      "id": "f780b3f5",
      "metadata": {
        "id": "f780b3f5"
      },
      "source": [
        "#### Save results to csv file"
      ]
    },
    {
      "cell_type": "code",
      "source": [
        "import glob\n",
        "test_img_folder = '/content/drive/MyDrive/Colab_Notebooks/F22_DL_HW4_train_test/ever/testImgs/'\n",
        "testImg_names = glob.glob(test_img_folder + \"*.png\")"
      ],
      "metadata": {
        "id": "NdhOfIn4Twz2"
      },
      "id": "NdhOfIn4Twz2",
      "execution_count": 20,
      "outputs": []
    },
    {
      "cell_type": "code",
      "source": [
        "df = pd.DataFrame({'name': list(testImg_names),\n",
        "                   'pred': list(test_pred_class)})\n",
        "df.to_csv(saved_img_folder + 'test_pred.csv')"
      ],
      "metadata": {
        "id": "0byp3alNT4sX"
      },
      "id": "0byp3alNT4sX",
      "execution_count": 21,
      "outputs": []
    }
  ],
  "metadata": {
    "kernelspec": {
      "display_name": "Python 3 (ipykernel)",
      "language": "python",
      "name": "python3"
    },
    "language_info": {
      "codemirror_mode": {
        "name": "ipython",
        "version": 3
      },
      "file_extension": ".py",
      "mimetype": "text/x-python",
      "name": "python",
      "nbconvert_exporter": "python",
      "pygments_lexer": "ipython3",
      "version": "3.9.7"
    },
    "colab": {
      "provenance": [],
      "machine_shape": "hm"
    },
    "accelerator": "GPU",
    "gpuClass": "premium"
  },
  "nbformat": 4,
  "nbformat_minor": 5
}